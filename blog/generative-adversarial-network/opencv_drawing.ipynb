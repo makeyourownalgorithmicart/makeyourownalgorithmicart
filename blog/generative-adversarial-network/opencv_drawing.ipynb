{
  "nbformat": 4,
  "nbformat_minor": 0,
  "metadata": {
    "colab": {
      "name": "opencv_drawing.ipynb",
      "version": "0.3.2",
      "provenance": [],
      "collapsed_sections": []
    },
    "kernelspec": {
      "name": "python3",
      "display_name": "Python 3"
    }
  },
  "cells": [
    {
      "cell_type": "code",
      "metadata": {
        "id": "CL38_82Ajs85",
        "colab_type": "code",
        "colab": {}
      },
      "source": [
        "# demonstrate drawing into a numpy array with opencv"
      ],
      "execution_count": 0,
      "outputs": []
    },
    {
      "cell_type": "code",
      "metadata": {
        "id": "EWYB7TTHNu7E",
        "colab_type": "code",
        "colab": {}
      },
      "source": [
        "import numpy\n",
        "import matplotlib.pyplot as plt\n",
        "\n",
        "import cv2"
      ],
      "execution_count": 0,
      "outputs": []
    },
    {
      "cell_type": "code",
      "metadata": {
        "id": "BHXqEl_pOiUj",
        "colab_type": "code",
        "outputId": "ed88d980-7751-4210-dbda-272654061e81",
        "colab": {
          "base_uri": "https://localhost:8080/",
          "height": 286
        }
      },
      "source": [
        "# start with blank image\n",
        "img = numpy.zeros((128, 128), numpy.uint8) + 255\n",
        "\n",
        "# show image\n",
        "plt.imshow(img, cmap='gray', vmin=0, vmax=255)"
      ],
      "execution_count": 3,
      "outputs": [
        {
          "output_type": "execute_result",
          "data": {
            "text/plain": [
              "<matplotlib.image.AxesImage at 0x7f7a42e60ac8>"
            ]
          },
          "metadata": {
            "tags": []
          },
          "execution_count": 3
        },
        {
          "output_type": "display_data",
          "data": {
            "image/png": "[encoded data removed]",
            "text/plain": [
              "<Figure size 432x288 with 1 Axes>"
            ]
          },
          "metadata": {
            "tags": []
          }
        }
      ]
    },
    {
      "cell_type": "code",
      "metadata": {
        "id": "rKsdxFI4OqvA",
        "colab_type": "code",
        "outputId": "f893ee79-79a1-49d3-ec1a-f371463d04e8",
        "colab": {
          "base_uri": "https://localhost:8080/",
          "height": 286
        }
      },
      "source": [
        "# start with blank image\n",
        "img = numpy.zeros((128,128), numpy.uint8) + 255\n",
        "\n",
        "# draw line\n",
        "cv2.line(img, (30, 30), (90, 90), 0, 2, cv2.LINE_AA)\n",
        "\n",
        "# show image\n",
        "plt.imshow(img, cmap='gray', vmin=0, vmax=255)"
      ],
      "execution_count": 4,
      "outputs": [
        {
          "output_type": "execute_result",
          "data": {
            "text/plain": [
              "<matplotlib.image.AxesImage at 0x7f7a405fcba8>"
            ]
          },
          "metadata": {
            "tags": []
          },
          "execution_count": 4
        },
        {
          "output_type": "display_data",
          "data": {
            "image/png": "[encoded data removed]",
            "text/plain": [
              "<Figure size 432x288 with 1 Axes>"
            ]
          },
          "metadata": {
            "tags": []
          }
        }
      ]
    },
    {
      "cell_type": "code",
      "metadata": {
        "id": "GqmCZ5VxSbEb",
        "colab_type": "code",
        "outputId": "ec993987-420f-4340-c254-bd5110d30b51",
        "colab": {
          "base_uri": "https://localhost:8080/",
          "height": 286
        }
      },
      "source": [
        "# start with blank image\n",
        "img = numpy.zeros((128, 128), numpy.uint8) + 255\n",
        "\n",
        "# draw unfilled circle\n",
        "cv2.circle(img, (50,50), 20, 0, 2, cv2.LINE_AA)\n",
        "\n",
        "# draw filled circle\n",
        "cv2.circle(img, (80, 80), 20, 0, -1, cv2.LINE_AA)\n",
        "\n",
        "# show image\n",
        "plt.imshow(img, cmap='gray', vmin=0, vmax=255)"
      ],
      "execution_count": 5,
      "outputs": [
        {
          "output_type": "execute_result",
          "data": {
            "text/plain": [
              "<matplotlib.image.AxesImage at 0x7f7a405669b0>"
            ]
          },
          "metadata": {
            "tags": []
          },
          "execution_count": 5
        },
        {
          "output_type": "display_data",
          "data": {
            "image/png": "[encoded data removed]",
            "text/plain": [
              "<Figure size 432x288 with 1 Axes>"
            ]
          },
          "metadata": {
            "tags": []
          }
        }
      ]
    },
    {
      "cell_type": "code",
      "metadata": {
        "id": "4Ni8EVvSZmhr",
        "colab_type": "code",
        "outputId": "be355764-9840-4606-89d7-839c40543deb",
        "colab": {
          "base_uri": "https://localhost:8080/",
          "height": 286
        }
      },
      "source": [
        "# start with blank image\n",
        "img = numpy.zeros((128, 128, 3), numpy.uint8) + 255\n",
        "\n",
        "# draw red line\n",
        "cv2.line(img, (30, 30), (90, 90), (255, 0, 0), 2, cv2.LINE_AA)\n",
        "\n",
        "# draw filled circle\n",
        "cv2.circle(img, (80, 80), 20, (0, 0, 255), -1, cv2.LINE_AA)\n",
        "\n",
        "# show image\n",
        "plt.imshow(img)"
      ],
      "execution_count": 6,
      "outputs": [
        {
          "output_type": "execute_result",
          "data": {
            "text/plain": [
              "<matplotlib.image.AxesImage at 0x7f7a404d00b8>"
            ]
          },
          "metadata": {
            "tags": []
          },
          "execution_count": 6
        },
        {
          "output_type": "display_data",
          "data": {
            "image/png": "[encoded data removed]",
            "text/plain": [
              "<Figure size 432x288 with 1 Axes>"
            ]
          },
          "metadata": {
            "tags": []
          }
        }
      ]
    },
    {
      "cell_type": "code",
      "metadata": {
        "id": "Pt8f1Aldluio",
        "colab_type": "code",
        "colab": {
          "base_uri": "https://localhost:8080/",
          "height": 286
        },
        "outputId": "775076fc-1995-4789-cd27-1bdbe77048b6"
      },
      "source": [
        "# start with blank image\n",
        "img = numpy.zeros((128, 128, 3), numpy.uint8) + 255\n",
        "\n",
        "\n",
        "for midy in range(60, 90, 10):\n",
        "\n",
        "  startx = 20\n",
        "  lengthx = 80\n",
        "\n",
        "  xvalues = numpy.linspace(0,lengthx,100)\n",
        "  yvalues = numpy.sin(xvalues/8) * 10\n",
        "\n",
        "  for (x,y) in zip(xvalues, yvalues):\n",
        "    x = startx + int(x)\n",
        "    y = midy - int(y)\n",
        "    cv2.circle(img, (x, y), 1, (0, 200, 0), -1)\n",
        "    pass\n",
        "  \n",
        "  pass\n",
        "\n",
        "\n",
        "# show image\n",
        "plt.imshow(img)"
      ],
      "execution_count": 88,
      "outputs": [
        {
          "output_type": "execute_result",
          "data": {
            "text/plain": [
              "<matplotlib.image.AxesImage at 0x7f7a3e80e160>"
            ]
          },
          "metadata": {
            "tags": []
          },
          "execution_count": 88
        },
        {
          "output_type": "display_data",
          "data": {
            "image/png": "[encoded data removed]",
            "text/plain": [
              "<Figure size 432x288 with 1 Axes>"
            ]
          },
          "metadata": {
            "tags": []
          }
        }
      ]
    },
    {
      "cell_type": "code",
      "metadata": {
        "id": "6Aa5c_ieUR0k",
        "colab_type": "code",
        "colab": {
          "base_uri": "https://localhost:8080/",
          "height": 286
        },
        "outputId": "4c675fdb-f001-41e4-8c2a-50577d5a81a1"
      },
      "source": [
        "# start with blank image\n",
        "img = numpy.zeros((128, 128, 3), numpy.uint8) + 255\n",
        "\n",
        "\n",
        "angles = numpy.linspace(0,2*numpy.pi,10)\n",
        "xvalues = numpy.cos(angles) * 20\n",
        "yvalues = numpy.sin(angles) * 20\n",
        "\n",
        "for (x,y) in zip(xvalues, yvalues):\n",
        "  x = int(x)\n",
        "  y = int(y)\n",
        "  cv2.line(img, (64, 64), (64 + x, 64 - y), (250, 250, 0), 2, cv2.LINE_AA)\n",
        "  pass\n",
        "\n",
        "\n",
        "# show image\n",
        "plt.imshow(img)"
      ],
      "execution_count": 98,
      "outputs": [
        {
          "output_type": "execute_result",
          "data": {
            "text/plain": [
              "<matplotlib.image.AxesImage at 0x7f7a3e512780>"
            ]
          },
          "metadata": {
            "tags": []
          },
          "execution_count": 98
        },
        {
          "output_type": "display_data",
          "data": {
            "image/png": "[encoded data removed]",
            "text/plain": [
              "<Figure size 432x288 with 1 Axes>"
            ]
          },
          "metadata": {
            "tags": []
          }
        }
      ]
    },
    {
      "cell_type": "code",
      "metadata": {
        "id": "4rnt-zGZfw9r",
        "colab_type": "code",
        "colab": {}
      },
      "source": [
        ""
      ],
      "execution_count": 0,
      "outputs": []
    }
  ]
}