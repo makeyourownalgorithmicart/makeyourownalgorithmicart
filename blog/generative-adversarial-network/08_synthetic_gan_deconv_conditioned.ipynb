{
  "nbformat": 4,
  "nbformat_minor": 0,
  "metadata": {
    "colab": {
      "name": "08_synthetic_gan_deconv_conditioned.ipynb",
      "version": "0.3.2",
      "provenance": [],
      "collapsed_sections": []
    },
    "language_info": {
      "codemirror_mode": {
        "name": "ipython",
        "version": 3
      },
      "file_extension": ".py",
      "mimetype": "text/x-python",
      "name": "python",
      "nbconvert_exporter": "python",
      "pygments_lexer": "ipython3",
      "version": "3.7.3"
    },
    "kernelspec": {
      "name": "python3",
      "display_name": "Python 3"
    },
    "accelerator": "GPU"
  },
  "cells": [
    {
      "cell_type": "code",
      "metadata": {
        "id": "zvjOZnwtzSKw",
        "colab_type": "code",
        "colab": {}
      },
      "source": [
        "# conditional generative adversarial network using conv/deconv layers\n",
        "# this version uses sythetic images at 64x64, and no dense layers in the networks"
      ],
      "execution_count": 0,
      "outputs": []
    },
    {
      "cell_type": "code",
      "metadata": {
        "id": "4xh2kzxUzXdf",
        "colab_type": "code",
        "outputId": "b55de24f-3005-4104-c505-dee0a7eb22f4",
        "colab": {
          "base_uri": "https://localhost:8080/",
          "height": 34
        }
      },
      "source": [
        "# mount drive to access csv files\n",
        "\n",
        "from google.colab import drive\n",
        "drive.mount('./data')\n",
        "\n",
        "from google.colab import files\n"
      ],
      "execution_count": 3,
      "outputs": [
        {
          "output_type": "stream",
          "text": [
            "Drive already mounted at ./data; to attempt to forcibly remount, call drive.mount(\"./data\", force_remount=True).\n"
          ],
          "name": "stdout"
        }
      ]
    },
    {
      "cell_type": "code",
      "metadata": {
        "id": "3mdiwPBezSK3",
        "colab_type": "code",
        "colab": {}
      },
      "source": [
        "# conventional PyTorch imports\n",
        "import torch\n",
        "import torch.nn as nn\n",
        "from torch.utils.data import Dataset"
      ],
      "execution_count": 0,
      "outputs": []
    },
    {
      "cell_type": "code",
      "metadata": {
        "id": "JtYQER6E1IYY",
        "colab_type": "code",
        "outputId": "62eae1f5-0947-4925-e1af-2c53c3a49b95",
        "colab": {
          "base_uri": "https://localhost:8080/",
          "height": 51
        }
      },
      "source": [
        "# GPU\n",
        "\n",
        "#torch.cuda.is_available()\n",
        "#torch.cuda.get_device_name(0)\n",
        "\n",
        "if torch.cuda.is_available():\n",
        "  torch.set_default_tensor_type(torch.cuda.FloatTensor)\n",
        "  print(\"using cuda:\", torch.cuda.get_device_name(0))\n",
        "  pass\n",
        "\n",
        "device = torch.device(\"cuda\" if torch.cuda.is_available() else \"cpu\")\n",
        "device"
      ],
      "execution_count": 5,
      "outputs": [
        {
          "output_type": "stream",
          "text": [
            "using cuda: Tesla T4\n"
          ],
          "name": "stdout"
        },
        {
          "output_type": "execute_result",
          "data": {
            "text/plain": [
              "device(type='cuda')"
            ]
          },
          "metadata": {
            "tags": []
          },
          "execution_count": 5
        }
      ]
    },
    {
      "cell_type": "code",
      "metadata": {
        "id": "vmmN8fQozSK7",
        "colab_type": "code",
        "colab": {}
      },
      "source": [
        "import random\n",
        "import pandas\n",
        "import numpy\n",
        "import cv2\n",
        "import matplotlib.pyplot as plt\n",
        "\n",
        "import datetime\n",
        "import time"
      ],
      "execution_count": 0,
      "outputs": []
    },
    {
      "cell_type": "code",
      "metadata": {
        "id": "xogZ7pawzSLB",
        "colab_type": "code",
        "outputId": "84de183d-f893-4e88-b5e1-97979fcf72c0",
        "colab": {
          "base_uri": "https://localhost:8080/",
          "height": 34
        }
      },
      "source": [
        "# function to generate uniform random data\n",
        "# size parameter is length of tensor\n",
        "\n",
        "def generate_random(size):\n",
        "    #return torch.rand(size)\n",
        "    return torch.randn((1,size))\n",
        "\n",
        "generate_random(5)"
      ],
      "execution_count": 7,
      "outputs": [
        {
          "output_type": "execute_result",
          "data": {
            "text/plain": [
              "tensor([[-0.4924, -2.1291,  1.0214,  0.2394, -0.7884]])"
            ]
          },
          "metadata": {
            "tags": []
          },
          "execution_count": 7
        }
      ]
    },
    {
      "cell_type": "code",
      "metadata": {
        "id": "deZS3OM_55_f",
        "colab_type": "code",
        "outputId": "c1c880ea-ff6c-4650-e009-7ea229a21060",
        "colab": {
          "base_uri": "https://localhost:8080/",
          "height": 34
        }
      },
      "source": [
        "# function to generate one-hot random data used as a random target label\n",
        "# size parameter is length of tensor\n",
        "\n",
        "def generate_random_target(size):\n",
        "    label_tensor = torch.zeros((1,size))\n",
        "    random_idx = random.randint(0, size-1)\n",
        "    label_tensor[0,random_idx] = 1.0\n",
        "    \n",
        "    return label_tensor\n",
        "\n",
        "generate_random_target(5)"
      ],
      "execution_count": 8,
      "outputs": [
        {
          "output_type": "execute_result",
          "data": {
            "text/plain": [
              "tensor([[0., 0., 0., 1., 0.]])"
            ]
          },
          "metadata": {
            "tags": []
          },
          "execution_count": 8
        }
      ]
    },
    {
      "cell_type": "code",
      "metadata": {
        "id": "7u7P69z0HzzE",
        "colab_type": "code",
        "colab": {}
      },
      "source": [
        "# emotions\n",
        "\n",
        "list_of_emotions = ['happy', 'angry']"
      ],
      "execution_count": 0,
      "outputs": []
    },
    {
      "cell_type": "code",
      "metadata": {
        "id": "C0cuQLZCNkkp",
        "colab_type": "code",
        "colab": {}
      },
      "source": [
        "### generate images (monochrome)\n",
        "\n",
        "def generate_real(emotion):\n",
        "  # start with blank image\n",
        "  img = numpy.zeros((64,64,3), numpy.uint8) + 255\n",
        "  \n",
        "  ####\n",
        "  \n",
        "  if (emotion == 'happy'):\n",
        "  \n",
        "    # happy colour\n",
        "    r = 95\n",
        "    g = 114\n",
        "    b = 231\n",
        "    \n",
        "    # test colour\n",
        "    r = 0\n",
        "    g = 0\n",
        "    b = 255\n",
        "\n",
        "    for i in range(5):\n",
        "      x = random.randint(10, 64-10)\n",
        "      y = random.randint(10, 64-10)\n",
        "      rad = random.randint(5, 5)\n",
        "\n",
        "      cv2.circle(img, (x,y), rad, (r, g, b), 1, cv2.LINE_AA)\n",
        "      pass\n",
        "    \n",
        "    pass\n",
        "  \n",
        "  ####\n",
        "  \n",
        "  if (emotion == 'angry'):\n",
        "    \n",
        "    # angry colour\n",
        "    r = 169\n",
        "    g = 20\n",
        "    b = 54\n",
        "    \n",
        "    # test colour\n",
        "    r = 255\n",
        "    g = 0\n",
        "    b = 0\n",
        "\n",
        "    for i in range(5):\n",
        "      x1 = random.randint(10, 64-10-30)\n",
        "      y1 = random.randint(10, 64-10-30)\n",
        "      x2 = x1 + 20\n",
        "      y2 = y1 + 20\n",
        "      rad = random.randint(5, 10)\n",
        "\n",
        "      cv2.line(img, (x1,y1), (x2, y2), (r, g, b), 1, cv2.LINE_AA)\n",
        "      pass\n",
        "    \n",
        "  \n",
        "  ####\n",
        "  \n",
        "  # convert to float\n",
        "  img = img.astype(numpy.float)\n",
        "  \n",
        "  # add random noise\n",
        "  #img = img + numpy.random.normal(0, 1, (128, 128,3))*10\n",
        "  #img = numpy.clip(img, 0.0, 255.0)\n",
        "  \n",
        "  ####\n",
        "  \n",
        "  img_tensor = torch.cuda.FloatTensor(img).permute(2,0,1).view(1,3,64,64)\n",
        "  # rescale to (-1,1)\n",
        "  img_tensor = (img_tensor / 127.5) - 1.0\n",
        "  \n",
        "  label_tensor = torch.zeros((1,len(list_of_emotions)))\n",
        "  label_tensor[0,list_of_emotions.index(emotion)] = 1.0\n",
        "    \n",
        "  return label_tensor, img_tensor\n",
        "\n",
        "\n",
        "### plot images\n",
        "\n",
        "def plot_real(emotion):\n",
        "  # plot a 3 column, 2 row array of sample images\n",
        "  f, axarr = plt.subplots(2,3, figsize=(16,8))\n",
        "  for i in range(2):\n",
        "    for j in range(3):\n",
        "      label_tensor, img_tensor = generate_real(emotion)\n",
        "      img = img_tensor.permute(0,2,3,1).view(64,64,3).cpu().numpy()\n",
        "      img = (img + 1.0)/2.0\n",
        "      axarr[i,j].imshow(img, interpolation='none', cmap='gray')\n",
        "      axarr[i,j].set_title(emotion)\n",
        "      pass\n",
        "    pass"
      ],
      "execution_count": 0,
      "outputs": []
    },
    {
      "cell_type": "code",
      "metadata": {
        "id": "9o4x8l5KOGoi",
        "colab_type": "code",
        "outputId": "9bcc9222-d9fd-4280-e6b2-213a2ff057b4",
        "colab": {
          "base_uri": "https://localhost:8080/",
          "height": 499
        }
      },
      "source": [
        "plot_real('happy')"
      ],
      "execution_count": 11,
      "outputs": [
        {
          "output_type": "display_data",
          "data": {
            "image/png": "[encoded data removed]",
            "text/plain": [
              "<Figure size 1152x576 with 6 Axes>"
            ]
          },
          "metadata": {
            "tags": []
          }
        }
      ]
    },
    {
      "cell_type": "code",
      "metadata": {
        "id": "3_dptYgDOOda",
        "colab_type": "code",
        "outputId": "30777682-a5ca-469e-aa99-c86832346077",
        "colab": {
          "base_uri": "https://localhost:8080/",
          "height": 499
        }
      },
      "source": [
        "plot_real('angry')"
      ],
      "execution_count": 12,
      "outputs": [
        {
          "output_type": "display_data",
          "data": {
            "image/png": "[encoded data removed]",
            "text/plain": [
              "<Figure size 1152x576 with 6 Axes>"
            ]
          },
          "metadata": {
            "tags": []
          }
        }
      ]
    },
    {
      "cell_type": "code",
      "metadata": {
        "id": "pdCw63-UzSLO",
        "colab_type": "code",
        "colab": {}
      },
      "source": [
        "# from https://github.com/pytorch/vision/issues/720\n",
        "\n",
        "class View(nn.Module):\n",
        "    def __init__(self, shape):\n",
        "        super().__init__()\n",
        "        self.shape = shape\n",
        "\n",
        "    def forward(self, x):\n",
        "        return x.view(*self.shape)"
      ],
      "execution_count": 0,
      "outputs": []
    },
    {
      "cell_type": "code",
      "metadata": {
        "id": "ls8s9isJzSLP",
        "colab_type": "code",
        "colab": {}
      },
      "source": [
        "# discriminator class\n",
        "\n",
        "class Discriminator(nn.Module):\n",
        "    \n",
        "    def __init__(self):\n",
        "        # initialise parent pytorch class\n",
        "        super().__init__()\n",
        "        \n",
        "        # define neural network layer\n",
        "        # input shape is (1, 1, height, width)\n",
        "        \n",
        "        # conv layers\n",
        "        self.model = nn.Sequential(            \n",
        "            \n",
        "            nn.Conv2d(3, 256, kernel_size=4, stride=2, padding=1, bias=False),\n",
        "            nn.LeakyReLU(0.2),\n",
        "            nn.BatchNorm2d(256),\n",
        "            \n",
        "            nn.Conv2d(256, 256, kernel_size=4, stride=2, padding=1, bias=False),\n",
        "            nn.LeakyReLU(0.2),\n",
        "            nn.BatchNorm2d(256),\n",
        "            \n",
        "            nn.Conv2d(256, 256, kernel_size=4, stride=2, padding=1, bias=False),\n",
        "            nn.LeakyReLU(0.2),\n",
        "            nn.BatchNorm2d(256),\n",
        "            \n",
        "            nn.Conv2d(256, 256, kernel_size=4, stride=2, padding=1, bias=False),\n",
        "            nn.LeakyReLU(0.2),\n",
        "            nn.BatchNorm2d(256),\n",
        "            \n",
        "            nn.Conv2d(256, 1, kernel_size=4, stride=2, bias=False),\n",
        "            nn.LeakyReLU(0.2),\n",
        "            # no final batch norm\n",
        "     \n",
        "            View((1,1)),\n",
        "            nn.Sigmoid()\n",
        "            \n",
        "        )\n",
        "        \n",
        "        # create error function\n",
        "        self.error_function = torch.nn.BCELoss()\n",
        "\n",
        "        # create optimiser, using Adam for better gradient descent\n",
        "        self.optimiser = torch.optim.Adam(self.parameters(), lr=0.0002, betas=(0.5, 0.999))\n",
        "        \n",
        "        # counter and accumulator for progress\n",
        "        self.counter = 0;\n",
        "        self.progress = []\n",
        "        pass\n",
        "    \n",
        "    \n",
        "    def forward(self, image_tensor, target_tensor):\n",
        "        # add condition tensor to image tensor\n",
        "        conditioned_image_tensor = image_tensor + target_tensor.repeat(1, 3, 64, 32)\n",
        "        return self.model(conditioned_image_tensor)\n",
        "    \n",
        "    \n",
        "    def train(self, image_tensor, condition_tensor, targets):\n",
        "        # calculate the output of the network\n",
        "        outputs = self.forward(image_tensor, condition_tensor)\n",
        "        \n",
        "        # calculate error\n",
        "        loss = self.error_function(outputs, targets)\n",
        "        \n",
        "        # increase counter and accumulate error every 10\n",
        "        self.counter += 1;\n",
        "        if (self.counter % 50 == 0):\n",
        "            self.progress.append(loss.item())\n",
        "            pass\n",
        "        if (self.counter % 5000 == 0):\n",
        "            print(\"counter = \", self.counter)\n",
        "            pass\n",
        "        \n",
        "\n",
        "        # zero gradients, perform a backward pass, and update the weights.\n",
        "        self.optimiser.zero_grad()\n",
        "        loss.backward()\n",
        "        self.optimiser.step()\n",
        "\n",
        "        pass\n",
        "    \n",
        "    def save(self, path):\n",
        "        torch.save(self.state_dict(), path)\n",
        "        pass\n",
        "    \n",
        "    \n",
        "    def load(self, path):\n",
        "        self.load_state_dict(torch.load(path))\n",
        "        #self.eval()\n",
        "        pass\n",
        "    \n",
        "    \n",
        "    def plot_progress(self):\n",
        "        df = pandas.DataFrame(self.progress, columns=['loss'])\n",
        "        df.plot(ylim=(0, 2.0), figsize=(16,8), alpha=0.1, marker='.', grid=True, yticks=(0, 0.25, 0.5, 1.0))\n",
        "        pass\n",
        "    \n",
        "    pass"
      ],
      "execution_count": 0,
      "outputs": []
    },
    {
      "cell_type": "code",
      "metadata": {
        "id": "VyT40A7FzSLS",
        "colab_type": "code",
        "outputId": "533f98fc-ffbf-4641-c137-62f7d7ba2bec",
        "colab": {
          "base_uri": "https://localhost:8080/",
          "height": 85
        }
      },
      "source": [
        "\n",
        "#%%time\n",
        "# create Discriminator and test it\n",
        "\n",
        "D = Discriminator()\n",
        "D.to(device)\n",
        "\n",
        "# train Discriminator\n",
        "\n",
        "\n",
        "for i in range(2000):\n",
        "\n",
        "  # random emotion from list\n",
        "  emotion = random.choice(list_of_emotions)\n",
        "\n",
        "  # train discriminator on real data\n",
        "  label_tensor, image_tensor = generate_real(emotion)\n",
        "  D.train(image_tensor, label_tensor, torch.cuda.FloatTensor([1.0]).view(1,1))\n",
        "\n",
        "  # train discriminator on false (random) data\n",
        "  D.train(generate_random(3*64*64).view(1, 3, 64, 64), generate_random_target(len(list_of_emotions)), torch.cuda.FloatTensor([0.0]).view(1,1))\n",
        "  \n",
        "  if(i%500 == 0):\n",
        "    print(\"i = \", i)\n",
        "    pass\n",
        "\n",
        "  pass\n"
      ],
      "execution_count": 47,
      "outputs": [
        {
          "output_type": "stream",
          "text": [
            "i =  0\n",
            "i =  500\n",
            "i =  1000\n",
            "i =  1500\n"
          ],
          "name": "stdout"
        }
      ]
    },
    {
      "cell_type": "code",
      "metadata": {
        "id": "xN2NpQN8zSLV",
        "colab_type": "code",
        "outputId": "a1ba306c-3bfb-41d8-a0c6-fc65563b1f89",
        "colab": {
          "base_uri": "https://localhost:8080/",
          "height": 486
        }
      },
      "source": [
        "# plot discriminator error\n",
        "\n",
        "D.plot_progress()"
      ],
      "execution_count": 48,
      "outputs": [
        {
          "output_type": "display_data",
          "data": {
            "image/png": "[encoded data removed]",
            "text/plain": [
              "<Figure size 1152x576 with 1 Axes>"
            ]
          },
          "metadata": {
            "tags": []
          }
        }
      ]
    },
    {
      "cell_type": "code",
      "metadata": {
        "id": "mQwesg7ezSLY",
        "colab_type": "code",
        "outputId": "d9bfc9fb-08cc-4cb9-b388-7b622fc34c80",
        "colab": {
          "base_uri": "https://localhost:8080/",
          "height": 255
        }
      },
      "source": [
        "# manually check D can indeed discriminate between real and fake data\n",
        "\n",
        "for i in range(4):\n",
        "  print(D.forward(generate_random(3*64*64).view(1, 3, 64, 64), generate_random_target(2)).item())\n",
        "  pass\n",
        "\n",
        "print()\n",
        "\n",
        "for i in range(4):\n",
        "  label_tensor, image_data_tensor = generate_real('happy')\n",
        "  print(D.forward(image_data_tensor, label_tensor).item())\n",
        "  pass\n",
        "\n",
        "print()\n",
        "\n",
        "for i in range(4):\n",
        "  label_tensor, image_data_tensor = generate_real('angry')\n",
        "  print(D.forward(image_data_tensor, label_tensor).item())\n",
        "  pass"
      ],
      "execution_count": 49,
      "outputs": [
        {
          "output_type": "stream",
          "text": [
            "0.0007683581206947565\n",
            "0.0007743528694845736\n",
            "0.0007478849729523063\n",
            "0.0007577859796583652\n",
            "\n",
            "1.0\n",
            "1.0\n",
            "1.0\n",
            "1.0\n",
            "\n",
            "1.0\n",
            "1.0\n",
            "1.0\n",
            "1.0\n"
          ],
          "name": "stdout"
        }
      ]
    },
    {
      "cell_type": "code",
      "metadata": {
        "id": "7OAIzcDKJ1eD",
        "colab_type": "code",
        "colab": {}
      },
      "source": [
        "# generator class\n",
        "# this one uses only fully connected (nn.Linear) layers\n",
        "\n",
        "class Generator(nn.Module):\n",
        "    \n",
        "    def __init__(self):\n",
        "        # initialise parent pytorch class\n",
        "        super().__init__()\n",
        "        \n",
        "        # define neural network layers\n",
        "        self.model = nn.Sequential(\n",
        "            # reshape seed to tensor\n",
        "            View((1, 100, 1, 1)),\n",
        "            \n",
        "            # reshape tensor to 256 filters\n",
        "            nn.ConvTranspose2d(100, 256, kernel_size=4, stride=1, bias=False),\n",
        "            nn.LeakyReLU(0.2),\n",
        "            nn.BatchNorm2d(256),\n",
        "            \n",
        "            nn.ConvTranspose2d(256, 256, kernel_size=4, stride=2, padding=1, bias=False),\n",
        "            nn.LeakyReLU(0.2),\n",
        "            nn.BatchNorm2d(256),\n",
        "            \n",
        "            nn.ConvTranspose2d(256, 256, kernel_size=4, stride=2, padding=1, bias=False),\n",
        "            nn.LeakyReLU(0.2),\n",
        "            nn.BatchNorm2d(256),\n",
        "            \n",
        "            nn.ConvTranspose2d(256, 256, kernel_size=4, stride=2, padding=1, bias=False),\n",
        "            nn.LeakyReLU(0.2),\n",
        "            nn.BatchNorm2d(256),\n",
        "            \n",
        "            nn.ConvTranspose2d(256, 3, kernel_size=4, stride=2, padding=1, bias=False),\n",
        "            nn.LeakyReLU(0.2),\n",
        "            nn.BatchNorm2d(3),\n",
        "            \n",
        "            View((1, 3, 64, 64)),\n",
        "            nn.Tanh()\n",
        "        )\n",
        "        \n",
        "        # create error function\n",
        "        self.error_function = torch.nn.BCELoss()\n",
        "\n",
        "        # create optimiser, using Adam for better gradient descent\n",
        "        self.optimiser = torch.optim.Adam(self.parameters(), lr=0.0002, betas=(0.5, 0.999))\n",
        "        \n",
        "        # counter and accumulator for progress\n",
        "        self.counter = 0;\n",
        "        self.progress = []\n",
        "        pass\n",
        "    \n",
        "    \n",
        "    def forward(self, noise_tensor, condition_tensor):\n",
        "        # add condition tensor to noise tensor\n",
        "        conditioned_noise_tensor = noise_tensor + condition_tensor.repeat(1,50)\n",
        "        return self.model(conditioned_noise_tensor)\n",
        "    \n",
        "    \n",
        "    def train(self, D, noise_tensor, condition_tensor, targets):\n",
        "        # calculate the output of the network\n",
        "        g_output = self.forward(noise_tensor, condition_tensor)\n",
        "        \n",
        "        # pass onto Discriminator\n",
        "        d_output = D.forward(g_output, condition_tensor)\n",
        "        \n",
        "        # calculate error\n",
        "        loss = D.error_function(d_output, targets)\n",
        "        \n",
        "        # increase counter and accumulate error every 10\n",
        "        self.counter += 1;\n",
        "        if (self.counter % 100 == 0):\n",
        "            self.progress.append(loss.item())\n",
        "            pass\n",
        "\n",
        "        # zero gradients, perform a backward pass, and update the weights.\n",
        "        self.optimiser.zero_grad()\n",
        "        loss.backward()\n",
        "        self.optimiser.step()\n",
        "        pass\n",
        "    \n",
        "    \n",
        "    def save(self, path):\n",
        "        torch.save(self.state_dict(), path)\n",
        "        pass\n",
        "    \n",
        "    \n",
        "    def load(self, path):\n",
        "        self.load_state_dict(torch.load(path))\n",
        "        #self.eval()\n",
        "        pass\n",
        "    \n",
        "    \n",
        "    def plot_images(self):\n",
        "      \n",
        "        # plot a 3 column, 2 row array of sample images\n",
        "        f, axarr = plt.subplots(2,3, figsize=(16,8))\n",
        "        for i in range(2):\n",
        "            for j in range(3):\n",
        "                condition_tensor = torch.zeros((1,2))\n",
        "                condition_tensor[0,i] = 1.0\n",
        "                img = G.forward(generate_random(100), condition_tensor).permute(0,2,3,1).view(64,64,3).detach().cpu().numpy()\n",
        "                img = (img + 1.0)/2.0\n",
        "                axarr[i,j].imshow(img, interpolation='none', cmap='gray')\n",
        "                axarr[i,j].set_title(list_of_emotions[i])\n",
        "                pass\n",
        "            pass\n",
        "        pass\n",
        "      \n",
        "    \n",
        "    def plot_progress(self):\n",
        "        df = pandas.DataFrame(self.progress, columns=['loss'])\n",
        "        df.plot(ylim=(0, 10.0), figsize=(16,8), alpha=0.1, marker='.', grid=True, yticks=(0, 0.25, 0.5, 1.0))\n",
        "        pass\n",
        "    \n",
        "    pass"
      ],
      "execution_count": 0,
      "outputs": []
    },
    {
      "cell_type": "code",
      "metadata": {
        "id": "PL3RiTOqzSLc",
        "colab_type": "code",
        "outputId": "f3f4cbc3-345e-4f2b-e860-6d1831b0b8f9",
        "colab": {
          "base_uri": "https://localhost:8080/",
          "height": 537
        }
      },
      "source": [
        "# scratch\n",
        "\n",
        "G = Generator()\n",
        "\n",
        "img = G(generate_random(100), generate_random_target(2))\n",
        "img = (img + 1.0) / 2.0\n",
        "print(img.shape)\n",
        "print(img.min(), img.mean(), img.max())\n",
        "\n",
        "plt.figure(figsize = (16,8))\n",
        "plt.imshow(img.detach().permute(0,2,3,1).view(64,64,3).cpu().numpy(), interpolation='none', cmap='gray')"
      ],
      "execution_count": 80,
      "outputs": [
        {
          "output_type": "stream",
          "text": [
            "torch.Size([1, 3, 64, 64])\n",
            "tensor(0.0422, grad_fn=<MinBackward1>) tensor(0.4751, grad_fn=<MeanBackward0>) tensor(0.9999, grad_fn=<MaxBackward1>)\n"
          ],
          "name": "stdout"
        },
        {
          "output_type": "execute_result",
          "data": {
            "text/plain": [
              "<matplotlib.image.AxesImage at 0x7fddc81fd400>"
            ]
          },
          "metadata": {
            "tags": []
          },
          "execution_count": 80
        },
        {
          "output_type": "display_data",
          "data": {
            "image/png": "[encoded data removed]",
            "text/plain": [
              "<Figure size 1152x576 with 1 Axes>"
            ]
          },
          "metadata": {
            "tags": []
          }
        }
      ]
    },
    {
      "cell_type": "code",
      "metadata": {
        "id": "fXmgrdyQzSLe",
        "colab_type": "code",
        "colab": {}
      },
      "source": [
        " # create Discriminator and Generator\n",
        "\n",
        "D = Discriminator()\n",
        "D.to(device)\n",
        "\n",
        "G = Generator()\n",
        "G.to(device)\n",
        "\n",
        "# free up GPU memory \n",
        "torch.cuda.empty_cache()"
      ],
      "execution_count": 0,
      "outputs": []
    },
    {
      "cell_type": "code",
      "metadata": {
        "id": "0MHNjRPpzSLf",
        "colab_type": "code",
        "outputId": "dccc1bf1-288d-4153-bf2f-d7a839bf7f6e",
        "colab": {
          "base_uri": "https://localhost:8080/",
          "height": 425
        }
      },
      "source": [
        "%%time\n",
        "# train Discriminator and Generator\n",
        "\n",
        "epochs = 8\n",
        "\n",
        "for epoch in range(epochs):\n",
        "  print(\"epoch .. \", epoch+1)\n",
        "  \n",
        "  for i in range(100):\n",
        "\n",
        "    # swap labels sometimes\n",
        "    real = 0.9\n",
        "    fake = 0.0\n",
        "    if (random.random() < 0.05):\n",
        "      real = 0.0\n",
        "      fake = 0.9\n",
        "      pass\n",
        "\n",
        "\n",
        "    # random emotion from list\n",
        "    emotion = random.choices(list_of_emotions, weights=[1.0,1.0], k=1)[0]\n",
        "    \n",
        "    # repeat for each emotion (batching classes)\n",
        "    for e in range(100):\n",
        "\n",
        "      # train discriminator on real data\n",
        "      label_tensor, image_tensor = generate_real(emotion)\n",
        "      D.train(image_tensor, label_tensor, torch.cuda.FloatTensor([real]).view(1,1))\n",
        "\n",
        "      # train discriminator on false\n",
        "      # use detach() so only D is updated, not G\n",
        "      # label softening doesn't apply to 0 labels\n",
        "      condition_tensor = generate_random_target(2)\n",
        "      D.train(G.forward(generate_random(100), condition_tensor).detach(), condition_tensor, torch.cuda.FloatTensor([fake]).view(1,1))\n",
        "\n",
        "      # train generator\n",
        "      condition_tensor = generate_random_target(2)\n",
        "      G.train(D, generate_random(100), condition_tensor, torch.cuda.FloatTensor([1.0]).view(1,1))\n",
        "      \n",
        "      pass\n",
        "\n",
        "    pass\n",
        "  \n",
        "  # plot 6-image samples, save to file\n",
        "  f, axarr = plt.subplots(2,3, figsize=(16,8))\n",
        "  for i in range(2):\n",
        "    for j in range(3):\n",
        "      condition_tensor = torch.zeros((1,2))\n",
        "      condition_tensor[0,i] = 1.0\n",
        "      img = G.forward(generate_random(100), condition_tensor).permute(0,2,3,1).view(64,64,3).detach().cpu().numpy()\n",
        "      img = (img + 1.0)/2.0\n",
        "      axarr[i,j].imshow(img, interpolation='none', cmap='gray')\n",
        "      axarr[i,j].set_title(list_of_emotions[i])\n",
        "      pass\n",
        "    pass\n",
        "  \n",
        "  t = datetime.datetime.fromtimestamp(time.time())\n",
        "  fname = \"img_%d_%s.png\" % (epoch+1, t.strftime('%H-%M-%S'))\n",
        "  plt.savefig(fname)\n",
        "  files.download(fname)\n",
        "  plt.close(f)\n",
        "  \n",
        "  pass\n"
      ],
      "execution_count": 0,
      "outputs": [
        {
          "output_type": "stream",
          "text": [
            "epoch ..  1\n",
            "counter =  5000\n",
            "counter =  10000\n",
            "counter =  15000\n",
            "counter =  20000\n",
            "epoch ..  2\n",
            "counter =  25000\n",
            "counter =  30000\n",
            "counter =  35000\n",
            "counter =  40000\n",
            "epoch ..  3\n",
            "counter =  45000\n",
            "counter =  50000\n",
            "counter =  55000\n",
            "counter =  60000\n",
            "epoch ..  4\n",
            "counter =  65000\n",
            "counter =  70000\n",
            "counter =  75000\n",
            "counter =  80000\n",
            "epoch ..  5\n",
            "counter =  85000\n",
            "counter =  90000\n",
            "counter =  95000\n"
          ],
          "name": "stdout"
        }
      ]
    },
    {
      "cell_type": "code",
      "metadata": {
        "id": "8nRUfpRhzSLh",
        "colab_type": "code",
        "colab": {}
      },
      "source": [
        " # plot discriminator error\n",
        "\n",
        "D.plot_progress()"
      ],
      "execution_count": 0,
      "outputs": []
    },
    {
      "cell_type": "code",
      "metadata": {
        "id": "BY82DW1CXK_N",
        "colab_type": "code",
        "colab": {}
      },
      "source": [
        "# plot generator error\n",
        "\n",
        "G.plot_progress()"
      ],
      "execution_count": 0,
      "outputs": []
    },
    {
      "cell_type": "code",
      "metadata": {
        "id": "CJBbBXGSzSLj",
        "colab_type": "code",
        "colab": {}
      },
      "source": [
        "# show generator outputs as they evolve\n",
        "\n",
        "G.plot_images()"
      ],
      "execution_count": 0,
      "outputs": []
    },
    {
      "cell_type": "code",
      "metadata": {
        "id": "MJ08aWJPfynB",
        "colab_type": "code",
        "colab": {}
      },
      "source": [
        "!ls"
      ],
      "execution_count": 0,
      "outputs": []
    },
    {
      "cell_type": "code",
      "metadata": {
        "id": "P95zxSA9E4jn",
        "colab_type": "code",
        "colab": {}
      },
      "source": [
        ""
      ],
      "execution_count": 0,
      "outputs": []
    },
    {
      "cell_type": "code",
      "metadata": {
        "id": "Epu2kQrE29Mm",
        "colab_type": "code",
        "colab": {}
      },
      "source": [
        ""
      ],
      "execution_count": 0,
      "outputs": []
    }
  ]
}